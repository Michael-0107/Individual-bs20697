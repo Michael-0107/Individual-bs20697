{
 "cells": [
  {
   "cell_type": "code",
   "execution_count": 4,
   "metadata": {},
   "outputs": [],
   "source": [
    "import pandas as pd\n",
    "import nilmtk\n",
    "import matplotlib.pyplot as plt\n",
    "import random\n",
    "import sys\n",
    "from matplotlib import rcParams\n",
    "import matplotlib.pyplot as plt\n",
    "import numpy as np\n",
    "import h5py\n",
    "from nilmtk import DataSet\n",
    "from nilmtk.utils import print_dict\n",
    "from nilmtk.datastore import HDFDataStore\n",
    "from matplotlib import rcParams\n",
    "from nilmtk.utils import find_nearest\n",
    "from nilmtk.feature_detectors import cluster\n",
    "from nilmtk.legacy.disaggregate import Disaggregator\n",
    "from nilmtk.datastore import HDFDataStore\n",
    "import tensorflow as tf\n",
    "from tensorflow import keras\n",
    "from Lstm import RNNDisaggregator\n",
    "import time\n",
    "import metrics"
   ]
  },
  {
   "cell_type": "code",
   "execution_count": 5,
   "metadata": {},
   "outputs": [
    {
     "name": "stdout",
     "output_type": "stream",
     "text": [
      "========== OPEN DATASETS ============\n"
     ]
    },
    {
     "name": "stderr",
     "output_type": "stream",
     "text": [
      "2023-05-01 06:52:42.185595: I tensorflow/stream_executor/platform/default/dso_loader.cc:53] Successfully opened dynamic library libcuda.so.1\n",
      "2023-05-01 06:52:42.244227: I tensorflow/core/common_runtime/gpu/gpu_device.cc:1733] Found device 0 with properties: \n",
      "pciBusID: 0000:a4:00.0 name: NVIDIA GeForce RTX 3090 computeCapability: 8.6\n",
      "coreClock: 1.695GHz coreCount: 82 deviceMemorySize: 23.69GiB deviceMemoryBandwidth: 871.81GiB/s\n",
      "2023-05-01 06:52:42.244274: I tensorflow/stream_executor/platform/default/dso_loader.cc:53] Successfully opened dynamic library libcudart.so.11.0\n",
      "2023-05-01 06:52:42.247210: I tensorflow/stream_executor/platform/default/dso_loader.cc:53] Successfully opened dynamic library libcublas.so.11\n",
      "2023-05-01 06:52:42.247319: I tensorflow/stream_executor/platform/default/dso_loader.cc:53] Successfully opened dynamic library libcublasLt.so.11\n",
      "2023-05-01 06:52:42.248254: I tensorflow/stream_executor/platform/default/dso_loader.cc:53] Successfully opened dynamic library libcufft.so.10\n",
      "2023-05-01 06:52:42.248545: I tensorflow/stream_executor/platform/default/dso_loader.cc:53] Successfully opened dynamic library libcurand.so.10\n",
      "2023-05-01 06:52:42.249332: I tensorflow/stream_executor/platform/default/dso_loader.cc:53] Successfully opened dynamic library libcusolver.so.11\n",
      "2023-05-01 06:52:42.250001: I tensorflow/stream_executor/platform/default/dso_loader.cc:53] Successfully opened dynamic library libcusparse.so.11\n",
      "2023-05-01 06:52:42.250161: I tensorflow/stream_executor/platform/default/dso_loader.cc:53] Successfully opened dynamic library libcudnn.so.8\n",
      "2023-05-01 06:52:42.250831: I tensorflow/core/common_runtime/gpu/gpu_device.cc:1871] Adding visible gpu devices: 0\n",
      "2023-05-01 06:52:42.252039: I tensorflow/core/platform/cpu_feature_guard.cc:142] This TensorFlow binary is optimized with oneAPI Deep Neural Network Library (oneDNN) to use the following CPU instructions in performance-critical operations:  AVX2 AVX512F FMA\n",
      "To enable them in other operations, rebuild TensorFlow with the appropriate compiler flags.\n",
      "2023-05-01 06:52:42.259369: I tensorflow/core/common_runtime/gpu/gpu_device.cc:1733] Found device 0 with properties: \n",
      "pciBusID: 0000:a4:00.0 name: NVIDIA GeForce RTX 3090 computeCapability: 8.6\n",
      "coreClock: 1.695GHz coreCount: 82 deviceMemorySize: 23.69GiB deviceMemoryBandwidth: 871.81GiB/s\n",
      "2023-05-01 06:52:42.260373: I tensorflow/core/common_runtime/gpu/gpu_device.cc:1871] Adding visible gpu devices: 0\n",
      "2023-05-01 06:52:42.260463: I tensorflow/stream_executor/platform/default/dso_loader.cc:53] Successfully opened dynamic library libcudart.so.11.0\n",
      "2023-05-01 06:52:42.707780: I tensorflow/core/common_runtime/gpu/gpu_device.cc:1258] Device interconnect StreamExecutor with strength 1 edge matrix:\n",
      "2023-05-01 06:52:42.707800: I tensorflow/core/common_runtime/gpu/gpu_device.cc:1264]      0 \n",
      "2023-05-01 06:52:42.707806: I tensorflow/core/common_runtime/gpu/gpu_device.cc:1277] 0:   N \n",
      "2023-05-01 06:52:42.708939: I tensorflow/core/common_runtime/gpu/gpu_device.cc:1418] Created TensorFlow device (/job:localhost/replica:0/task:0/device:GPU:0 with 22308 MB memory) -> physical GPU (device: 0, name: NVIDIA GeForce RTX 3090, pci bus id: 0000:a4:00.0, compute capability: 8.6)\n"
     ]
    },
    {
     "name": "stdout",
     "output_type": "stream",
     "text": [
      "Model: \"sequential\"\n",
      "_________________________________________________________________\n",
      "Layer (type)                 Output Shape              Param #   \n",
      "=================================================================\n",
      "conv1d (Conv1D)              (None, 20, 16)            80        \n",
      "_________________________________________________________________\n",
      "bidirectional (Bidirectional (None, 20, 256)           148480    \n",
      "_________________________________________________________________\n",
      "bidirectional_1 (Bidirection (None, 512)               1050624   \n",
      "_________________________________________________________________\n",
      "dropout (Dropout)            (None, 512)               0         \n",
      "_________________________________________________________________\n",
      "dense (Dense)                (None, 128)               65664     \n",
      "_________________________________________________________________\n",
      "dense_1 (Dense)              (None, 1)                 129       \n",
      "=================================================================\n",
      "Total params: 1,264,977\n",
      "Trainable params: 1,264,977\n",
      "Non-trainable params: 0\n",
      "_________________________________________________________________\n"
     ]
    }
   ],
   "source": [
    "print(\"========== OPEN DATASETS ============\")\n",
    "train_house02 = DataSet('/root/autodl-tmp/redd_low_new.h5')\n",
    "train_house03 = DataSet('/root/autodl-tmp/redd_low_new.h5')\n",
    "train_house02.set_window(end=\"5-2-2011\")\n",
    "train_house03.set_window(end=\"27-4-2011\")\n",
    "\n",
    "test = DataSet('/root/autodl-tmp/redd_low_new.h5')\n",
    "test.set_window(start=\"5-9-2011\")\n",
    "\n",
    "train = DataSet('/root/autodl-tmp/redd_low_new.h5')\n",
    "train.set_window(end=\"5-2-2011\")\n",
    "\n",
    "train_building = [1]\n",
    "test_building = 1\n",
    "sample_period = 3\n",
    "meter_key = 'fridge'\n",
    "\n",
    "\n",
    "train_mains = train.buildings[1].elec.mains().all_meters()[0]\n",
    "train_meters = train.buildings[train_building[0]].elec.submeters()[meter_key]\n",
    "\n",
    "test_mains = test.buildings[test_building].elec.mains().all_meters()[0]\n",
    "test_meters = test.buildings[test_building].elec.submeters()[meter_key]\n",
    "\n",
    "rnn = RNNDisaggregator(window_size=20)"
   ]
  },
  {
   "cell_type": "code",
   "execution_count": 3,
   "metadata": {},
   "outputs": [
    {
     "name": "stdout",
     "output_type": "stream",
     "text": [
      "========== TRAIN ============\n",
      "(391937, 20, 1)\n",
      "(391937,)\n",
      "356.2344\n",
      "84.37994\n",
      "219.84592\n",
      "61.480576\n",
      "256\n",
      "Epoch 1/30\n"
     ]
    },
    {
     "name": "stderr",
     "output_type": "stream",
     "text": [
      "2023-05-01 02:18:21.474473: I tensorflow/compiler/mlir/mlir_graph_optimization_pass.cc:176] None of the MLIR Optimization Passes are enabled (registered 2)\n",
      "2023-05-01 02:18:21.491716: I tensorflow/core/platform/profile_utils/cpu_utils.cc:114] CPU Frequency: 2600000000 Hz\n",
      "2023-05-01 02:18:24.805754: I tensorflow/stream_executor/platform/default/dso_loader.cc:53] Successfully opened dynamic library libcudnn.so.8\n",
      "2023-05-01 02:18:25.434254: I tensorflow/stream_executor/cuda/cuda_dnn.cc:359] Loaded cuDNN version 8101\n",
      "2023-05-01 02:18:25.620126: I tensorflow/stream_executor/platform/default/dso_loader.cc:53] Successfully opened dynamic library libcublas.so.11\n",
      "2023-05-01 02:18:26.169845: I tensorflow/stream_executor/platform/default/dso_loader.cc:53] Successfully opened dynamic library libcublasLt.so.11\n",
      "2023-05-01 02:18:26.169899: I tensorflow/stream_executor/cuda/cuda_blas.cc:1838] TensorFloat-32 will be used for the matrix multiplication. This will only be logged once.\n"
     ]
    },
    {
     "name": "stdout",
     "output_type": "stream",
     "text": [
      "1378/1378 [==============================] - 23s 13ms/step - loss: 0.9358 - val_loss: 0.9224\n",
      "Epoch 2/30\n",
      "1378/1378 [==============================] - 17s 13ms/step - loss: 0.7672 - val_loss: 0.7008\n",
      "Epoch 3/30\n",
      "1378/1378 [==============================] - 18s 13ms/step - loss: 0.6431 - val_loss: 0.5976\n",
      "Epoch 4/30\n",
      "1378/1378 [==============================] - 18s 13ms/step - loss: 0.6129 - val_loss: 0.5699\n",
      "Epoch 5/30\n",
      "1378/1378 [==============================] - 17s 13ms/step - loss: 0.6034 - val_loss: 0.5546\n",
      "Epoch 6/30\n",
      "1378/1378 [==============================] - 17s 13ms/step - loss: 0.5946 - val_loss: 0.5405\n",
      "Epoch 7/30\n",
      "1378/1378 [==============================] - 17s 13ms/step - loss: 0.5860 - val_loss: 0.5261\n",
      "Epoch 8/30\n",
      "1378/1378 [==============================] - 18s 13ms/step - loss: 0.5754 - val_loss: 0.5096\n",
      "Epoch 9/30\n",
      "1378/1378 [==============================] - 17s 13ms/step - loss: 0.5636 - val_loss: 0.4920\n",
      "Epoch 10/30\n",
      "1378/1378 [==============================] - 18s 13ms/step - loss: 0.5485 - val_loss: 0.4705\n",
      "Epoch 11/30\n",
      "1378/1378 [==============================] - 17s 13ms/step - loss: 0.5306 - val_loss: 0.4473\n",
      "Epoch 12/30\n",
      "1378/1378 [==============================] - 18s 13ms/step - loss: 0.5115 - val_loss: 0.4270\n",
      "Epoch 13/30\n",
      "1378/1378 [==============================] - 18s 13ms/step - loss: 0.4956 - val_loss: 0.4116\n",
      "Epoch 14/30\n",
      "1378/1378 [==============================] - 18s 13ms/step - loss: 0.4808 - val_loss: 0.3960\n",
      "Epoch 15/30\n",
      "1378/1378 [==============================] - 18s 13ms/step - loss: 0.4662 - val_loss: 0.3793\n",
      "Epoch 16/30\n",
      "1378/1378 [==============================] - 18s 13ms/step - loss: 0.4522 - val_loss: 0.3646\n",
      "Epoch 17/30\n",
      "1378/1378 [==============================] - 17s 13ms/step - loss: 0.4370 - val_loss: 0.3508\n",
      "Epoch 18/30\n",
      "1378/1378 [==============================] - 18s 13ms/step - loss: 0.4251 - val_loss: 0.3419\n",
      "Epoch 19/30\n",
      "1378/1378 [==============================] - 18s 13ms/step - loss: 0.4186 - val_loss: 0.3356\n",
      "Epoch 20/30\n",
      "1378/1378 [==============================] - 18s 13ms/step - loss: 0.4140 - val_loss: 0.3313\n",
      "Epoch 21/30\n",
      "1378/1378 [==============================] - 18s 13ms/step - loss: 0.4101 - val_loss: 0.3283\n",
      "Epoch 22/30\n",
      "1378/1378 [==============================] - 18s 13ms/step - loss: 0.4082 - val_loss: 0.3260\n",
      "Epoch 23/30\n",
      "1378/1378 [==============================] - 18s 13ms/step - loss: 0.4054 - val_loss: 0.3241\n",
      "Epoch 24/30\n",
      "1378/1378 [==============================] - 17s 13ms/step - loss: 0.4037 - val_loss: 0.3224\n",
      "Epoch 25/30\n",
      "1378/1378 [==============================] - 18s 13ms/step - loss: 0.4020 - val_loss: 0.3210\n",
      "Epoch 26/30\n",
      "1378/1378 [==============================] - 18s 13ms/step - loss: 0.4010 - val_loss: 0.3199\n",
      "Epoch 27/30\n",
      "1378/1378 [==============================] - 18s 13ms/step - loss: 0.3993 - val_loss: 0.3188\n",
      "Epoch 28/30\n",
      "1378/1378 [==============================] - 18s 13ms/step - loss: 0.3988 - val_loss: 0.3177\n",
      "Epoch 29/30\n",
      "1378/1378 [==============================] - 18s 13ms/step - loss: 0.3975 - val_loss: 0.3169\n",
      "Epoch 30/30\n",
      "1378/1378 [==============================] - 17s 13ms/step - loss: 0.3961 - val_loss: 0.3161\n",
      "Train = 534.1833672523499 seconds.\n"
     ]
    }
   ],
   "source": [
    "start = time.time()\n",
    "print(\"========== TRAIN ============\")\n",
    "\n",
    "history01 = rnn.train(train_mains, train_meters, epochs=30,sample_period=sample_period)\n",
    "# history02 = rnn.train(train_mains[1], train_meters[1], epochs=15,sample_period=sample_period)\n",
    "rnn.export_model(\"model_LSTM_Single.h5\")\n",
    "\n",
    "end = time.time()\n",
    "print(\"Train =\", end-start, \"seconds.\")"
   ]
  },
  {
   "cell_type": "code",
   "execution_count": 6,
   "metadata": {},
   "outputs": [
    {
     "name": "stdout",
     "output_type": "stream",
     "text": [
      "========== DISAGGREGATE ============\n",
      "New sensible chunk: 46179\n",
      "New sensible chunk: 10838\n",
      "New sensible chunk: 9086\n",
      "New sensible chunk: 11612\n",
      "New sensible chunk: 33611\n",
      "New sensible chunk: 30\n"
     ]
    }
   ],
   "source": [
    "print(\"========== DISAGGREGATE ============\")\n",
    "disag_filename = 'disg_LSTM_Single01.h5'\n",
    "output = HDFDataStore(disag_filename, 'w')\n",
    "rnn.disaggregate(test_mains, output, train_meters, sample_period=sample_period)\n",
    "output.close()"
   ]
  },
  {
   "cell_type": "code",
   "execution_count": 6,
   "metadata": {},
   "outputs": [],
   "source": [
    "disag_filename = 'disg_LSTM_Single01.h5'"
   ]
  },
  {
   "cell_type": "code",
   "execution_count": 7,
   "metadata": {},
   "outputs": [
    {
     "name": "stdout",
     "output_type": "stream",
     "text": [
      "========== Plot ============\n"
     ]
    },
    {
     "data": {
      "image/png": "[encoded data removed]",
      "text/plain": [
       "<Figure size 432x288 with 1 Axes>"
      ]
     },
     "metadata": {
      "needs_background": "light"
     },
     "output_type": "display_data"
    }
   ],
   "source": [
    "result = DataSet(disag_filename)\n",
    "res_elec = result.buildings[test_building].elec\n",
    "\n",
    "print(\"========== Plot ============\")\n",
    "\n",
    "predicted = res_elec[meter_key]\n",
    "ground_truth = test_meters\n",
    "import matplotlib.pyplot as plt\n",
    "predicted.plot()\n",
    "# ground_truth.plot()\n",
    "# ground_truth.plot(timeframe=good_sections_pre[2])\n",
    "# ground_truth.plot(timeframe=good_sections_pre[0])\n",
    "plt.show()"
   ]
  },
  {
   "cell_type": "code",
   "execution_count": 8,
   "metadata": {},
   "outputs": [
    {
     "data": {
      "text/plain": [
       "[TimeFrame(start='2011-05-11 03:20:39-04:00', end='2011-05-12 17:48:36-04:00', empty=False),\n",
       " TimeFrame(start='2011-05-12 20:15:27-04:00', end='2011-05-13 05:16:21-04:00', empty=False),\n",
       " TimeFrame(start='2011-05-22 16:05:42-04:00', end='2011-05-22 23:39:00-04:00', empty=False),\n",
       " TimeFrame(start='2011-05-22 23:42:30-04:00', end='2011-05-23 09:22:06-04:00', empty=False),\n",
       " TimeFrame(start='2011-05-23 10:32:30-04:00', end='2011-05-24 14:32:03-04:00', empty=False),\n",
       " TimeFrame(start='2011-05-24 15:56:30-04:00', end='2011-05-24 15:57:00-04:00', empty=False)]"
      ]
     },
     "execution_count": 8,
     "metadata": {},
     "output_type": "execute_result"
    }
   ],
   "source": [
    "good_sections_pre = predicted.good_sections()\n",
    "good_sections_pre"
   ]
  },
  {
   "cell_type": "code",
   "execution_count": 9,
   "metadata": {},
   "outputs": [
    {
     "data": {
      "text/plain": [
       "ElecMeter(instance=5, building=1, dataset='REDD', appliances=[Appliance(type='fridge', instance=1)])"
      ]
     },
     "execution_count": 9,
     "metadata": {},
     "output_type": "execute_result"
    }
   ],
   "source": [
    "ground_truth"
   ]
  },
  {
   "cell_type": "code",
   "execution_count": 20,
   "metadata": {},
   "outputs": [
    {
     "data": {
      "image/png": "[encoded data removed]",
      "text/plain": [
       "<Figure size 432x288 with 1 Axes>"
      ]
     },
     "metadata": {
      "needs_background": "light"
     },
     "output_type": "display_data"
    }
   ],
   "source": [
    "ground_truth.plot(timeframe=good_sections_pre[3])\n",
    "predicted.plot(timeframe=good_sections_pre[3])\n",
    "plt.legend(['Ground truth', 'Predicted'])\n",
    "plt.show()"
   ]
  },
  {
   "cell_type": "code",
   "execution_count": 11,
   "metadata": {},
   "outputs": [
    {
     "data": {
      "text/plain": [
       "<matplotlib.legend.Legend at 0x7f92310ac430>"
      ]
     },
     "execution_count": 11,
     "metadata": {},
     "output_type": "execute_result"
    },
    {
     "data": {
      "image/png": "[encoded data removed]",
      "text/plain": [
       "<Figure size 432x288 with 1 Axes>"
      ]
     },
     "metadata": {
      "needs_background": "light"
     },
     "output_type": "display_data"
    }
   ],
   "source": [
    "plt.plot(history01['loss'],label='train loss')\n",
    "plt.plot(history01['val_loss'], label='val loss')\n",
    "plt.legend()\n"
   ]
  },
  {
   "cell_type": "code",
   "execution_count": 12,
   "metadata": {},
   "outputs": [
    {
     "name": "stdout",
     "output_type": "stream",
     "text": [
      "========== RESULTS ============\n",
      "============ Recall: 0.6415655756466011\n",
      "============ Precision: 0.8772583719805389\n",
      "============ Accuracy: 0.8063593948056852\n",
      "============ F1 Score: 0.7411244381414802\n",
      "============ Relative error in total energy: 0.19708925623276252\n",
      "============ Mean absolute error(in Watts): 22.042605987424718\n"
     ]
    }
   ],
   "source": [
    "print(\"========== RESULTS ============\")\n",
    "result = DataSet(disag_filename)\n",
    "res_elec = result.buildings[test_building].elec\n",
    "rpaf = metrics.recall_precision_accuracy_f1(res_elec[meter_key], test_meters)\n",
    "print(\"============ Recall: {}\".format(rpaf[0]))\n",
    "print(\"============ Precision: {}\".format(rpaf[1]))\n",
    "print(\"============ Accuracy: {}\".format(rpaf[2]))\n",
    "print(\"============ F1 Score: {}\".format(rpaf[3]))\n",
    "\n",
    "print(\"============ Relative error in total energy: {}\".format(metrics.relative_error_total_energy(res_elec[meter_key], test_meters)))\n",
    "print(\"============ Mean absolute error(in Watts): {}\".format(metrics.mean_absolute_error(res_elec[meter_key], test_meters)))"
   ]
  },
  {
   "cell_type": "code",
   "execution_count": null,
   "metadata": {},
   "outputs": [],
   "source": []
  }
 ],
 "metadata": {
  "kernelspec": {
   "display_name": "Python 3 (ipykernel)",
   "language": "python",
   "name": "python3"
  },
  "language_info": {
   "codemirror_mode": {
    "name": "ipython",
    "version": 3
   },
   "file_extension": ".py",
   "mimetype": "text/x-python",
   "name": "python",
   "nbconvert_exporter": "python",
   "pygments_lexer": "ipython3",
   "version": "3.8.10"
  }
 },
 "nbformat": 4,
 "nbformat_minor": 4
}
