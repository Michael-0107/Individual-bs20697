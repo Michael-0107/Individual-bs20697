{
 "cells": [
  {
   "cell_type": "code",
   "execution_count": 11,
   "metadata": {},
   "outputs": [],
   "source": [
    "import pandas as pd\n",
    "import nilmtk\n",
    "import matplotlib.pyplot as plt\n",
    "import random\n",
    "import sys\n",
    "from matplotlib import rcParams\n",
    "import matplotlib.pyplot as plt\n",
    "import numpy as np\n",
    "import h5py\n",
    "from nilmtk import DataSet\n",
    "from nilmtk.utils import print_dict\n",
    "from nilmtk.datastore import HDFDataStore\n",
    "from matplotlib import rcParams\n",
    "from nilmtk.utils import find_nearest\n",
    "from nilmtk.feature_detectors import cluster\n",
    "from nilmtk.legacy.disaggregate import Disaggregator\n",
    "from nilmtk.datastore import HDFDataStore\n",
    "import tensorflow as tf\n",
    "from tensorflow import keras\n",
    "from Lstm import RNNDisaggregator\n",
    "import time\n",
    "import metrics"
   ]
  },
  {
   "cell_type": "code",
   "execution_count": 12,
   "metadata": {},
   "outputs": [
    {
     "name": "stdout",
     "output_type": "stream",
     "text": [
      "========== OPEN DATASETS ============\n",
      "Model: \"sequential_1\"\n",
      "_________________________________________________________________\n",
      "Layer (type)                 Output Shape              Param #   \n",
      "=================================================================\n",
      "conv1d_1 (Conv1D)            (None, 100, 16)           80        \n",
      "_________________________________________________________________\n",
      "bidirectional_2 (Bidirection (None, 100, 256)          148480    \n",
      "_________________________________________________________________\n",
      "bidirectional_3 (Bidirection (None, 512)               1050624   \n",
      "_________________________________________________________________\n",
      "dropout_1 (Dropout)          (None, 512)               0         \n",
      "_________________________________________________________________\n",
      "dense_2 (Dense)              (None, 128)               65664     \n",
      "_________________________________________________________________\n",
      "dense_3 (Dense)              (None, 1)                 129       \n",
      "=================================================================\n",
      "Total params: 1,264,977\n",
      "Trainable params: 1,264,977\n",
      "Non-trainable params: 0\n",
      "_________________________________________________________________\n"
     ]
    }
   ],
   "source": [
    "print(\"========== OPEN DATASETS ============\")\n",
    "train_house02 = DataSet('/root/autodl-tmp/redd_low_new.h5')\n",
    "train_house03 = DataSet('/root/autodl-tmp/redd_low_new.h5')\n",
    "train_house02.set_window(end=\"5-2-2011\")\n",
    "train_house03.set_window(end=\"28-4-2011\")\n",
    "\n",
    "val = DataSet('/root/autodl-tmp/redd_low_new.h5')\n",
    "val.set_window(start=\"16-5-2011\")\n",
    "\n",
    "test = DataSet('/root/autodl-tmp/redd_low_new.h5')\n",
    "test.set_window(end=\"5-3-2011\")\n",
    "\n",
    "train_building = [2,3]\n",
    "val_building = 1\n",
    "test_building = 1\n",
    "sample_period = 3\n",
    "meter_key = 'fridge'\n",
    "\n",
    "train_mains = []\n",
    "train_mains.append(train_house02.buildings[train_building[0]].elec.mains().all_meters()[1])\n",
    "train_mains.append(train_house03.buildings[train_building[1]].elec.mains().all_meters()[0])\n",
    "# train_mains.append(train.buildings[train_building[2]].elec.mains().all_meters()[0])\n",
    "\n",
    "train_meters = []\n",
    "train_meters.append(train_house02.buildings[train_building[0]].elec.submeters()[meter_key])\n",
    "train_meters.append(train_house03.buildings[train_building[1]].elec.submeters()[meter_key])\n",
    "\n",
    "\n",
    "test_mains = test.buildings[test_building].elec.mains().all_meters()[0]\n",
    "test_meters = test.buildings[test_building].elec.submeters()[meter_key]\n",
    "\n",
    "val_mains = val.buildings[val_building].elec.mains().all_meters()[0]\n",
    "val_meters = val.buildings[val_building].elec.submeters()[meter_key]\n",
    "\n",
    "\n",
    "rnn = RNNDisaggregator(window_size=100)"
   ]
  },
  {
   "cell_type": "code",
   "execution_count": 13,
   "metadata": {},
   "outputs": [
    {
     "name": "stdout",
     "output_type": "stream",
     "text": [
      "========== TRAIN ============\n",
      "(400161, 100, 1)\n",
      "(400161,)\n",
      "356.2344\n",
      "84.37994\n",
      "219.84592\n",
      "61.480576\n",
      "256\n",
      "Epoch 1/30\n",
      "1407/1407 [==============================] - 55s 36ms/step - loss: 0.7449 - val_loss: 0.6159\n",
      "Epoch 2/30\n",
      "1407/1407 [==============================] - 51s 36ms/step - loss: 0.4612 - val_loss: 0.4714\n",
      "Epoch 3/30\n",
      "1407/1407 [==============================] - 50s 36ms/step - loss: 0.4273 - val_loss: 0.4548\n",
      "Epoch 4/30\n",
      "1407/1407 [==============================] - 52s 37ms/step - loss: 0.4201 - val_loss: 0.4452\n",
      "Epoch 5/30\n",
      "1407/1407 [==============================] - 51s 36ms/step - loss: 0.4142 - val_loss: 0.4371\n",
      "Epoch 6/30\n",
      "1407/1407 [==============================] - 51s 36ms/step - loss: 0.4076 - val_loss: 0.4274\n",
      "Epoch 7/30\n",
      "1407/1407 [==============================] - 51s 36ms/step - loss: 0.4005 - val_loss: 0.4199\n",
      "Epoch 8/30\n",
      "1407/1407 [==============================] - 51s 36ms/step - loss: 0.3938 - val_loss: 0.4100\n",
      "Epoch 9/30\n",
      "1407/1407 [==============================] - 51s 36ms/step - loss: 0.3855 - val_loss: 0.4025\n",
      "Epoch 10/30\n",
      "1407/1407 [==============================] - 51s 36ms/step - loss: 0.3757 - val_loss: 0.3923\n",
      "Epoch 11/30\n",
      "1407/1407 [==============================] - 51s 36ms/step - loss: 0.3621 - val_loss: 0.3815\n",
      "Epoch 12/30\n",
      "1407/1407 [==============================] - 51s 36ms/step - loss: 0.3434 - val_loss: 0.3733\n",
      "Epoch 13/30\n",
      "1407/1407 [==============================] - 50s 36ms/step - loss: 0.3214 - val_loss: 0.3683\n",
      "Epoch 14/30\n",
      "1407/1407 [==============================] - 51s 36ms/step - loss: 0.3034 - val_loss: 0.3670\n",
      "Epoch 15/30\n",
      "1407/1407 [==============================] - 51s 36ms/step - loss: 0.2943 - val_loss: 0.3668\n",
      "Epoch 16/30\n",
      "1407/1407 [==============================] - 51s 36ms/step - loss: 0.2899 - val_loss: 0.3663\n",
      "Epoch 17/30\n",
      "1407/1407 [==============================] - 51s 36ms/step - loss: 0.2869 - val_loss: 0.3651\n",
      "Epoch 18/30\n",
      "1407/1407 [==============================] - 51s 36ms/step - loss: 0.2844 - val_loss: 0.3640\n",
      "Epoch 19/30\n",
      "1407/1407 [==============================] - 50s 36ms/step - loss: 0.2825 - val_loss: 0.3623\n",
      "Epoch 20/30\n",
      "1407/1407 [==============================] - 51s 36ms/step - loss: 0.2805 - val_loss: 0.3610\n",
      "Epoch 21/30\n",
      "1407/1407 [==============================] - 51s 36ms/step - loss: 0.2785 - val_loss: 0.3596\n",
      "Epoch 22/30\n",
      "1407/1407 [==============================] - 51s 36ms/step - loss: 0.2764 - val_loss: 0.3586\n",
      "Epoch 23/30\n",
      "1407/1407 [==============================] - 51s 36ms/step - loss: 0.2752 - val_loss: 0.3569\n",
      "Epoch 24/30\n",
      "1407/1407 [==============================] - 51s 36ms/step - loss: 0.2737 - val_loss: 0.3556\n",
      "Epoch 25/30\n",
      "1407/1407 [==============================] - 51s 36ms/step - loss: 0.2722 - val_loss: 0.3549\n",
      "Epoch 26/30\n",
      "1407/1407 [==============================] - 50s 36ms/step - loss: 0.2710 - val_loss: 0.3532\n",
      "Epoch 27/30\n",
      "1407/1407 [==============================] - 50s 36ms/step - loss: 0.2699 - val_loss: 0.3514\n",
      "Epoch 28/30\n",
      "1407/1407 [==============================] - 50s 36ms/step - loss: 0.2682 - val_loss: 0.3528\n",
      "Epoch 29/30\n",
      "1407/1407 [==============================] - 51s 36ms/step - loss: 0.2675 - val_loss: 0.3502\n",
      "Epoch 30/30\n",
      "1407/1407 [==============================] - 51s 36ms/step - loss: 0.2666 - val_loss: 0.3492\n",
      "Train = 1529.620789051056 seconds.\n"
     ]
    }
   ],
   "source": [
    "start = time.time()\n",
    "print(\"========== TRAIN ============\")\n",
    "\n",
    "history01 = rnn.train(train_mains[0], train_meters[0], epochs=30,sample_period=sample_period)\n",
    "# history02 = rnn.train(train_mains[1], train_meters[1], epochs=10,sample_period=sample_period)\n",
    "rnn.export_model(\"model_CNNLSTM_Fridge-win100.h5\")\n",
    "\n",
    "end = time.time()\n",
    "print(\"Train =\", end-start, \"seconds.\")"
   ]
  },
  {
   "cell_type": "code",
   "execution_count": 14,
   "metadata": {},
   "outputs": [
    {
     "name": "stdout",
     "output_type": "stream",
     "text": [
      "========== DISAGGREGATE ============\n",
      "New sensible chunk: 5533\n",
      "New sensible chunk: 26611\n",
      "New sensible chunk: 7822\n",
      "New sensible chunk: 6689\n",
      "New sensible chunk: 653\n",
      "New sensible chunk: 29766\n",
      "New sensible chunk: 13757\n",
      "New sensible chunk: 32510\n",
      "New sensible chunk: 34806\n",
      "New sensible chunk: 20284\n",
      "New sensible chunk: 64862\n",
      "New sensible chunk: 525\n",
      "New sensible chunk: 31931\n",
      "New sensible chunk: 41483\n",
      "New sensible chunk: 37554\n",
      "New sensible chunk: 8252\n"
     ]
    }
   ],
   "source": [
    "print(\"========== DISAGGREGATE ============\")\n",
    "disag_filename = 'disag_CNNLSTM_Fridge-win100'\n",
    "output = HDFDataStore(disag_filename, 'w')\n",
    "rnn.disaggregate(test_mains, output, train_meters[0], sample_period=sample_period)\n",
    "output.close()"
   ]
  },
  {
   "cell_type": "code",
   "execution_count": 5,
   "metadata": {},
   "outputs": [
    {
     "name": "stdout",
     "output_type": "stream",
     "text": [
      "========== Plot ============\n"
     ]
    },
    {
     "data": {
      "image/png": "[encoded data removed]",
      "text/plain": [
       "<Figure size 432x288 with 1 Axes>"
      ]
     },
     "metadata": {
      "needs_background": "light"
     },
     "output_type": "display_data"
    }
   ],
   "source": [
    "result = DataSet(disag_filename)\n",
    "res_elec = result.buildings[test_building].elec\n",
    "\n",
    "print(\"========== Plot ============\")\n",
    "\n",
    "predicted = res_elec[meter_key]\n",
    "ground_truth = test_meters\n",
    "import matplotlib.pyplot as plt\n",
    "predicted.plot()\n",
    "# ground_truth.plot()\n",
    "# ground_truth.plot(timeframe=good_sections_pre[2])\n",
    "# ground_truth.plot(timeframe=good_sections_pre[0])\n",
    "plt.show()"
   ]
  },
  {
   "cell_type": "code",
   "execution_count": 6,
   "metadata": {},
   "outputs": [
    {
     "data": {
      "text/plain": [
       "[TimeFrame(start='2011-04-18 09:23:06-04:00', end='2011-04-18 13:58:45-04:00', empty=False),\n",
       " TimeFrame(start='2011-04-18 14:04:03-04:00', end='2011-04-19 12:13:36-04:00', empty=False),\n",
       " TimeFrame(start='2011-04-19 12:15:12-04:00', end='2011-04-19 18:45:18-04:00', empty=False),\n",
       " TimeFrame(start='2011-04-19 20:21:03-04:00', end='2011-04-20 01:54:30-04:00', empty=False),\n",
       " TimeFrame(start='2011-04-20 01:56:33-04:00', end='2011-04-20 02:28:12-04:00', empty=False),\n",
       " TimeFrame(start='2011-04-20 02:29:48-04:00', end='2011-04-21 03:17:06-04:00', empty=False),\n",
       " TimeFrame(start='2011-04-21 06:18:12-04:00', end='2011-04-21 17:45:03-04:00', empty=False),\n",
       " TimeFrame(start='2011-04-21 19:42:24-04:00', end='2011-04-22 22:46:54-04:00', empty=False),\n",
       " TimeFrame(start='2011-04-22 22:49:30-04:00', end='2011-04-24 03:48:48-04:00', empty=False),\n",
       " TimeFrame(start='2011-04-24 03:53:21-04:00', end='2011-04-24 20:46:33-04:00', empty=False),\n",
       " TimeFrame(start='2011-04-24 20:48:12-04:00', end='2011-04-27 02:50:18-04:00', empty=False),\n",
       " TimeFrame(start='2011-04-27 02:52:18-04:00', end='2011-04-27 03:17:33-04:00', empty=False),\n",
       " TimeFrame(start='2011-04-27 03:22:12-04:00', end='2011-04-28 05:57:45-04:00', empty=False),\n",
       " TimeFrame(start='2011-04-29 23:11:30-04:00', end='2011-05-01 09:44:39-04:00', empty=False),\n",
       " TimeFrame(start='2011-05-01 09:48:15-04:00', end='2011-05-02 17:04:57-04:00', empty=False),\n",
       " TimeFrame(start='2011-05-02 17:08:24-04:00', end='2011-05-03 00:00:00-04:00', empty=False)]"
      ]
     },
     "execution_count": 6,
     "metadata": {},
     "output_type": "execute_result"
    }
   ],
   "source": [
    "good_sections_pre = predicted.good_sections()\n",
    "good_sections_pre"
   ]
  },
  {
   "cell_type": "code",
   "execution_count": 7,
   "metadata": {},
   "outputs": [
    {
     "data": {
      "text/plain": [
       "ElecMeter(instance=5, building=1, dataset='REDD', appliances=[Appliance(type='fridge', instance=1)])"
      ]
     },
     "execution_count": 7,
     "metadata": {},
     "output_type": "execute_result"
    }
   ],
   "source": [
    "ground_truth"
   ]
  },
  {
   "cell_type": "code",
   "execution_count": 8,
   "metadata": {},
   "outputs": [
    {
     "data": {
      "image/png": "[encoded data removed]",
      "text/plain": [
       "<Figure size 432x288 with 1 Axes>"
      ]
     },
     "metadata": {
      "needs_background": "light"
     },
     "output_type": "display_data"
    }
   ],
   "source": [
    "ground_truth.plot(timeframe=good_sections_pre[3])\n",
    "predicted.plot(timeframe=good_sections_pre[3])\n",
    "plt.legend(['Ground truth', 'Predicted'])\n",
    "plt.show()"
   ]
  },
  {
   "cell_type": "code",
   "execution_count": 9,
   "metadata": {},
   "outputs": [
    {
     "data": {
      "text/plain": [
       "<matplotlib.legend.Legend at 0x7fabc8416e80>"
      ]
     },
     "execution_count": 9,
     "metadata": {},
     "output_type": "execute_result"
    },
    {
     "data": {
      "image/png": "[encoded data removed]",
      "text/plain": [
       "<Figure size 432x288 with 1 Axes>"
      ]
     },
     "metadata": {
      "needs_background": "light"
     },
     "output_type": "display_data"
    }
   ],
   "source": [
    "plt.plot(history01['loss'],label='train loss')\n",
    "plt.plot(history01['val_loss'], label='val loss')\n",
    "plt.legend()\n"
   ]
  },
  {
   "cell_type": "code",
   "execution_count": 10,
   "metadata": {},
   "outputs": [
    {
     "name": "stdout",
     "output_type": "stream",
     "text": [
      "========== RESULTS ============\n",
      "============ Recall: 0.9976289467741721\n",
      "============ Precision: 0.41594623483216386\n",
      "============ Accuracy: 0.4175270664067777\n",
      "============ F1 Score: 0.5871070878575393\n",
      "============ Relative error in total energy: 0.36752875540598745\n",
      "============ Mean absolute error(in Watts): 44.70351350334555\n"
     ]
    }
   ],
   "source": [
    "print(\"========== RESULTS ============\")\n",
    "result = DataSet(disag_filename)\n",
    "res_elec = result.buildings[test_building].elec\n",
    "rpaf = metrics.recall_precision_accuracy_f1(res_elec[meter_key], test_meters)\n",
    "print(\"============ Recall: {}\".format(rpaf[0]))\n",
    "print(\"============ Precision: {}\".format(rpaf[1]))\n",
    "print(\"============ Accuracy: {}\".format(rpaf[2]))\n",
    "print(\"============ F1 Score: {}\".format(rpaf[3]))\n",
    "\n",
    "print(\"============ Relative error in total energy: {}\".format(metrics.relative_error_total_energy(res_elec[meter_key], test_meters)))\n",
    "print(\"============ Mean absolute error(in Watts): {}\".format(metrics.mean_absolute_error(res_elec[meter_key], test_meters)))"
   ]
  },
  {
   "cell_type": "code",
   "execution_count": null,
   "metadata": {},
   "outputs": [],
   "source": []
  }
 ],
 "metadata": {
  "kernelspec": {
   "display_name": "Python 3 (ipykernel)",
   "language": "python",
   "name": "python3"
  },
  "language_info": {
   "codemirror_mode": {
    "name": "ipython",
    "version": 3
   },
   "file_extension": ".py",
   "mimetype": "text/x-python",
   "name": "python",
   "nbconvert_exporter": "python",
   "pygments_lexer": "ipython3",
   "version": "3.8.10"
  }
 },
 "nbformat": 4,
 "nbformat_minor": 4
}
