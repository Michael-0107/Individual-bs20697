{
 "cells": [
  {
   "cell_type": "code",
   "execution_count": 1,
   "metadata": {},
   "outputs": [
    {
     "name": "stderr",
     "output_type": "stream",
     "text": [
      "2023-04-30 23:54:03.605570: I tensorflow/stream_executor/platform/default/dso_loader.cc:53] Successfully opened dynamic library libcudart.so.11.0\n"
     ]
    }
   ],
   "source": [
    "import pandas as pd\n",
    "import nilmtk\n",
    "import matplotlib.pyplot as plt\n",
    "import random\n",
    "import sys\n",
    "from matplotlib import rcParams\n",
    "import matplotlib.pyplot as plt\n",
    "import numpy as np\n",
    "import h5py\n",
    "from nilmtk import DataSet\n",
    "from nilmtk.utils import print_dict\n",
    "from nilmtk.datastore import HDFDataStore\n",
    "from matplotlib import rcParams\n",
    "from nilmtk.utils import find_nearest\n",
    "from nilmtk.feature_detectors import cluster\n",
    "from nilmtk.legacy.disaggregate import Disaggregator\n",
    "from nilmtk.datastore import HDFDataStore\n",
    "import tensorflow as tf\n",
    "from tensorflow import keras\n",
    "from Lstm import RNNDisaggregator\n",
    "import time\n",
    "import metrics"
   ]
  },
  {
   "cell_type": "code",
   "execution_count": 2,
   "metadata": {},
   "outputs": [
    {
     "name": "stdout",
     "output_type": "stream",
     "text": [
      "========== OPEN DATASETS ============\n"
     ]
    },
    {
     "name": "stderr",
     "output_type": "stream",
     "text": [
      "2023-04-30 23:54:04.695983: I tensorflow/stream_executor/platform/default/dso_loader.cc:53] Successfully opened dynamic library libcuda.so.1\n",
      "2023-04-30 23:54:04.753922: I tensorflow/core/common_runtime/gpu/gpu_device.cc:1733] Found device 0 with properties: \n",
      "pciBusID: 0000:a4:00.0 name: NVIDIA GeForce RTX 3090 computeCapability: 8.6\n",
      "coreClock: 1.695GHz coreCount: 82 deviceMemorySize: 23.69GiB deviceMemoryBandwidth: 871.81GiB/s\n",
      "2023-04-30 23:54:04.753955: I tensorflow/stream_executor/platform/default/dso_loader.cc:53] Successfully opened dynamic library libcudart.so.11.0\n",
      "2023-04-30 23:54:04.756872: I tensorflow/stream_executor/platform/default/dso_loader.cc:53] Successfully opened dynamic library libcublas.so.11\n",
      "2023-04-30 23:54:04.756949: I tensorflow/stream_executor/platform/default/dso_loader.cc:53] Successfully opened dynamic library libcublasLt.so.11\n",
      "2023-04-30 23:54:04.757930: I tensorflow/stream_executor/platform/default/dso_loader.cc:53] Successfully opened dynamic library libcufft.so.10\n",
      "2023-04-30 23:54:04.758195: I tensorflow/stream_executor/platform/default/dso_loader.cc:53] Successfully opened dynamic library libcurand.so.10\n",
      "2023-04-30 23:54:04.758997: I tensorflow/stream_executor/platform/default/dso_loader.cc:53] Successfully opened dynamic library libcusolver.so.11\n",
      "2023-04-30 23:54:04.759659: I tensorflow/stream_executor/platform/default/dso_loader.cc:53] Successfully opened dynamic library libcusparse.so.11\n",
      "2023-04-30 23:54:04.759801: I tensorflow/stream_executor/platform/default/dso_loader.cc:53] Successfully opened dynamic library libcudnn.so.8\n",
      "2023-04-30 23:54:04.760463: I tensorflow/core/common_runtime/gpu/gpu_device.cc:1871] Adding visible gpu devices: 0\n",
      "2023-04-30 23:54:04.761217: I tensorflow/core/platform/cpu_feature_guard.cc:142] This TensorFlow binary is optimized with oneAPI Deep Neural Network Library (oneDNN) to use the following CPU instructions in performance-critical operations:  AVX2 AVX512F FMA\n",
      "To enable them in other operations, rebuild TensorFlow with the appropriate compiler flags.\n",
      "2023-04-30 23:54:04.769812: I tensorflow/core/common_runtime/gpu/gpu_device.cc:1733] Found device 0 with properties: \n",
      "pciBusID: 0000:a4:00.0 name: NVIDIA GeForce RTX 3090 computeCapability: 8.6\n",
      "coreClock: 1.695GHz coreCount: 82 deviceMemorySize: 23.69GiB deviceMemoryBandwidth: 871.81GiB/s\n",
      "2023-04-30 23:54:04.771521: I tensorflow/core/common_runtime/gpu/gpu_device.cc:1871] Adding visible gpu devices: 0\n",
      "2023-04-30 23:54:04.771650: I tensorflow/stream_executor/platform/default/dso_loader.cc:53] Successfully opened dynamic library libcudart.so.11.0\n",
      "2023-04-30 23:54:05.234510: I tensorflow/core/common_runtime/gpu/gpu_device.cc:1258] Device interconnect StreamExecutor with strength 1 edge matrix:\n",
      "2023-04-30 23:54:05.234531: I tensorflow/core/common_runtime/gpu/gpu_device.cc:1264]      0 \n",
      "2023-04-30 23:54:05.234535: I tensorflow/core/common_runtime/gpu/gpu_device.cc:1277] 0:   N \n",
      "2023-04-30 23:54:05.235647: I tensorflow/core/common_runtime/gpu/gpu_device.cc:1418] Created TensorFlow device (/job:localhost/replica:0/task:0/device:GPU:0 with 22308 MB memory) -> physical GPU (device: 0, name: NVIDIA GeForce RTX 3090, pci bus id: 0000:a4:00.0, compute capability: 8.6)\n"
     ]
    },
    {
     "name": "stdout",
     "output_type": "stream",
     "text": [
      "Model: \"sequential\"\n",
      "_________________________________________________________________\n",
      "Layer (type)                 Output Shape              Param #   \n",
      "=================================================================\n",
      "conv1d (Conv1D)              (None, 20, 16)            80        \n",
      "_________________________________________________________________\n",
      "bidirectional (Bidirectional (None, 20, 256)           148480    \n",
      "_________________________________________________________________\n",
      "bidirectional_1 (Bidirection (None, 512)               1050624   \n",
      "_________________________________________________________________\n",
      "dropout (Dropout)            (None, 512)               0         \n",
      "_________________________________________________________________\n",
      "dense (Dense)                (None, 128)               65664     \n",
      "_________________________________________________________________\n",
      "dense_1 (Dense)              (None, 1)                 129       \n",
      "=================================================================\n",
      "Total params: 1,264,977\n",
      "Trainable params: 1,264,977\n",
      "Non-trainable params: 0\n",
      "_________________________________________________________________\n"
     ]
    }
   ],
   "source": [
    "print(\"========== OPEN DATASETS ============\")\n",
    "train_house02 = DataSet('/root/autodl-tmp/redd_low_new.h5')\n",
    "train_house03 = DataSet('/root/autodl-tmp/redd_low_new.h5')\n",
    "train_house02.set_window(end=\"5-2-2011\")\n",
    "train_house03.set_window(end=\"28-4-2011\")\n",
    "\n",
    "val = DataSet('/root/autodl-tmp/redd_low_new.h5')\n",
    "val.set_window(start=\"16-5-2011\")\n",
    "\n",
    "test = DataSet('/root/autodl-tmp/redd_low_new.h5')\n",
    "test.set_window(end=\"5-3-2011\")\n",
    "\n",
    "train_building = [2,3]\n",
    "val_building = 1\n",
    "test_building = 1\n",
    "sample_period = 3\n",
    "meter_key = 'fridge'\n",
    "\n",
    "train_mains = []\n",
    "train_mains.append(train_house02.buildings[train_building[0]].elec.mains().all_meters()[1])\n",
    "train_mains.append(train_house03.buildings[train_building[1]].elec.mains().all_meters()[0])\n",
    "# train_mains.append(train.buildings[train_building[2]].elec.mains().all_meters()[0])\n",
    "\n",
    "train_meters = []\n",
    "train_meters.append(train_house02.buildings[train_building[0]].elec.submeters()[meter_key])\n",
    "train_meters.append(train_house03.buildings[train_building[1]].elec.submeters()[meter_key])\n",
    "\n",
    "\n",
    "test_mains = test.buildings[test_building].elec.mains().all_meters()[0]\n",
    "test_meters = test.buildings[test_building].elec.submeters()[meter_key]\n",
    "\n",
    "val_mains = val.buildings[val_building].elec.mains().all_meters()[0]\n",
    "val_meters = val.buildings[val_building].elec.submeters()[meter_key]\n",
    "\n",
    "rnn = RNNDisaggregator(window_size=20)"
   ]
  },
  {
   "cell_type": "code",
   "execution_count": 3,
   "metadata": {},
   "outputs": [
    {
     "name": "stdout",
     "output_type": "stream",
     "text": [
      "========== TRAIN ============\n",
      "(400241, 20, 1)\n",
      "(400241,)\n",
      "356.2344\n",
      "84.37994\n",
      "219.84592\n",
      "61.480576\n",
      "256\n",
      "Epoch 1/30\n"
     ]
    },
    {
     "name": "stderr",
     "output_type": "stream",
     "text": [
      "2023-04-30 23:54:17.491533: I tensorflow/compiler/mlir/mlir_graph_optimization_pass.cc:176] None of the MLIR Optimization Passes are enabled (registered 2)\n",
      "2023-04-30 23:54:17.492268: I tensorflow/core/platform/profile_utils/cpu_utils.cc:114] CPU Frequency: 2600000000 Hz\n",
      "2023-04-30 23:54:20.639565: I tensorflow/stream_executor/platform/default/dso_loader.cc:53] Successfully opened dynamic library libcudnn.so.8\n",
      "2023-04-30 23:54:21.231428: I tensorflow/stream_executor/cuda/cuda_dnn.cc:359] Loaded cuDNN version 8101\n",
      "2023-04-30 23:54:21.970470: I tensorflow/stream_executor/platform/default/dso_loader.cc:53] Successfully opened dynamic library libcublas.so.11\n",
      "2023-04-30 23:54:22.492052: I tensorflow/stream_executor/platform/default/dso_loader.cc:53] Successfully opened dynamic library libcublasLt.so.11\n",
      "2023-04-30 23:54:22.684668: I tensorflow/stream_executor/cuda/cuda_blas.cc:1838] TensorFloat-32 will be used for the matrix multiplication. This will only be logged once.\n"
     ]
    },
    {
     "name": "stdout",
     "output_type": "stream",
     "text": [
      "1408/1408 [==============================] - 25s 14ms/step - loss: 0.2326 - val_loss: 0.2233\n",
      "Epoch 2/30\n",
      "1408/1408 [==============================] - 18s 13ms/step - loss: 0.1785 - val_loss: 0.2269\n",
      "Epoch 3/30\n",
      "1408/1408 [==============================] - 18s 13ms/step - loss: 0.1646 - val_loss: 0.2368\n",
      "Epoch 4/30\n",
      "1408/1408 [==============================] - 18s 13ms/step - loss: 0.1557 - val_loss: 0.2270\n",
      "Epoch 5/30\n",
      "1408/1408 [==============================] - 18s 13ms/step - loss: 0.1491 - val_loss: 0.2544\n",
      "Epoch 6/30\n",
      "1408/1408 [==============================] - 18s 13ms/step - loss: 0.1442 - val_loss: 0.2165\n",
      "Epoch 7/30\n",
      "1408/1408 [==============================] - 18s 13ms/step - loss: 0.1391 - val_loss: 0.2383\n",
      "Epoch 8/30\n",
      "1408/1408 [==============================] - 19s 13ms/step - loss: 0.1363 - val_loss: 0.2224\n",
      "Epoch 9/30\n",
      "1408/1408 [==============================] - 18s 13ms/step - loss: 0.1319 - val_loss: 0.2194\n",
      "Epoch 10/30\n",
      "1408/1408 [==============================] - 18s 13ms/step - loss: 0.1326 - val_loss: 0.2343\n",
      "Epoch 11/30\n",
      "1408/1408 [==============================] - 18s 13ms/step - loss: 0.1293 - val_loss: 0.2163\n",
      "Epoch 12/30\n",
      "1408/1408 [==============================] - 18s 13ms/step - loss: 0.1273 - val_loss: 0.2149\n",
      "Epoch 13/30\n",
      "1408/1408 [==============================] - 18s 13ms/step - loss: 0.1252 - val_loss: 0.2426\n",
      "Epoch 14/30\n",
      "1408/1408 [==============================] - 18s 13ms/step - loss: 0.1218 - val_loss: 0.2338\n",
      "Epoch 15/30\n",
      "1408/1408 [==============================] - 18s 13ms/step - loss: 0.1203 - val_loss: 0.2044\n",
      "Epoch 16/30\n",
      "1408/1408 [==============================] - 19s 13ms/step - loss: 0.1189 - val_loss: 0.2081\n",
      "Epoch 17/30\n",
      "1408/1408 [==============================] - 18s 13ms/step - loss: 0.1180 - val_loss: 0.2532\n",
      "Epoch 18/30\n",
      "1408/1408 [==============================] - 18s 13ms/step - loss: 0.1181 - val_loss: 0.2303\n",
      "Epoch 19/30\n",
      "1408/1408 [==============================] - 18s 13ms/step - loss: 0.1153 - val_loss: 0.2503\n",
      "Epoch 20/30\n",
      "1408/1408 [==============================] - 18s 13ms/step - loss: 0.1160 - val_loss: 0.2036\n",
      "Epoch 21/30\n",
      "1408/1408 [==============================] - 18s 13ms/step - loss: 0.1158 - val_loss: 0.1998\n",
      "Epoch 22/30\n",
      "1408/1408 [==============================] - 18s 13ms/step - loss: 0.1141 - val_loss: 0.2108\n",
      "Epoch 23/30\n",
      "1408/1408 [==============================] - 18s 13ms/step - loss: 0.1143 - val_loss: 0.2039\n",
      "Epoch 24/30\n",
      "1408/1408 [==============================] - 18s 13ms/step - loss: 0.1129 - val_loss: 0.2470\n",
      "Epoch 25/30\n",
      "1408/1408 [==============================] - 18s 13ms/step - loss: 0.1103 - val_loss: 0.2161\n",
      "Epoch 26/30\n",
      "1408/1408 [==============================] - 18s 13ms/step - loss: 0.1090 - val_loss: 0.2322\n",
      "Epoch 27/30\n",
      "1408/1408 [==============================] - 18s 13ms/step - loss: 0.1099 - val_loss: 0.2620\n",
      "Epoch 28/30\n",
      "1408/1408 [==============================] - 18s 13ms/step - loss: 0.1175 - val_loss: 0.2442\n",
      "Epoch 29/30\n",
      "1408/1408 [==============================] - 19s 13ms/step - loss: 0.1126 - val_loss: 0.2454\n",
      "Epoch 30/30\n",
      "1408/1408 [==============================] - 18s 13ms/step - loss: 0.1122 - val_loss: 0.1806\n",
      "Train = 558.514416217804 seconds.\n"
     ]
    }
   ],
   "source": [
    "start = time.time()\n",
    "print(\"========== TRAIN ============\")\n",
    "\n",
    "history01 = rnn.train(train_mains[0], train_meters[0], epochs=30,sample_period=sample_period)\n",
    "# history02 = rnn.train(train_mains[1], train_meters[1], epochs=10,sample_period=sample_period)\n",
    "# rnn.export_model(\"model_CNNLSTM_one-Fridge.h5\")\n",
    "\n",
    "end = time.time()\n",
    "print(\"Train =\", end-start, \"seconds.\")"
   ]
  },
  {
   "cell_type": "code",
   "execution_count": 4,
   "metadata": {},
   "outputs": [
    {
     "name": "stdout",
     "output_type": "stream",
     "text": [
      "========== DISAGGREGATE ============\n",
      "New sensible chunk: 5533\n",
      "New sensible chunk: 26611\n",
      "New sensible chunk: 7822\n",
      "New sensible chunk: 6689\n",
      "New sensible chunk: 653\n",
      "New sensible chunk: 29766\n",
      "New sensible chunk: 13757\n",
      "New sensible chunk: 32510\n",
      "New sensible chunk: 34806\n",
      "New sensible chunk: 20284\n",
      "New sensible chunk: 64862\n",
      "New sensible chunk: 525\n",
      "New sensible chunk: 31931\n",
      "New sensible chunk: 41483\n",
      "New sensible chunk: 37554\n",
      "New sensible chunk: 8252\n"
     ]
    }
   ],
   "source": [
    "print(\"========== DISAGGREGATE ============\")\n",
    "disag_filename = 'disag000.h5'\n",
    "output = HDFDataStore(disag_filename, 'w')\n",
    "rnn.disaggregate(test_mains, output, train_meters[0], sample_period=sample_period)\n",
    "output.close()"
   ]
  },
  {
   "cell_type": "code",
   "execution_count": 5,
   "metadata": {},
   "outputs": [
    {
     "name": "stdout",
     "output_type": "stream",
     "text": [
      "========== Plot ============\n"
     ]
    },
    {
     "data": {
      "image/png": "[encoded data removed]",
      "text/plain": [
       "<Figure size 432x288 with 1 Axes>"
      ]
     },
     "metadata": {
      "needs_background": "light"
     },
     "output_type": "display_data"
    }
   ],
   "source": [
    "result = DataSet(disag_filename)\n",
    "res_elec = result.buildings[test_building].elec\n",
    "\n",
    "print(\"========== Plot ============\")\n",
    "\n",
    "predicted = res_elec[meter_key]\n",
    "ground_truth = test_meters\n",
    "import matplotlib.pyplot as plt\n",
    "predicted.plot()\n",
    "# ground_truth.plot()\n",
    "# ground_truth.plot(timeframe=good_sections_pre[2])\n",
    "# ground_truth.plot(timeframe=good_sections_pre[0])\n",
    "plt.show()"
   ]
  },
  {
   "cell_type": "code",
   "execution_count": 6,
   "metadata": {},
   "outputs": [
    {
     "data": {
      "text/plain": [
       "[TimeFrame(start='2011-04-18 09:23:06-04:00', end='2011-04-18 13:58:45-04:00', empty=False),\n",
       " TimeFrame(start='2011-04-18 14:04:03-04:00', end='2011-04-19 12:13:36-04:00', empty=False),\n",
       " TimeFrame(start='2011-04-19 12:15:12-04:00', end='2011-04-19 18:45:18-04:00', empty=False),\n",
       " TimeFrame(start='2011-04-19 20:21:03-04:00', end='2011-04-20 01:54:30-04:00', empty=False),\n",
       " TimeFrame(start='2011-04-20 01:56:33-04:00', end='2011-04-20 02:28:12-04:00', empty=False),\n",
       " TimeFrame(start='2011-04-20 02:29:48-04:00', end='2011-04-21 03:17:06-04:00', empty=False),\n",
       " TimeFrame(start='2011-04-21 06:18:12-04:00', end='2011-04-21 17:45:03-04:00', empty=False),\n",
       " TimeFrame(start='2011-04-21 19:42:24-04:00', end='2011-04-22 22:46:54-04:00', empty=False),\n",
       " TimeFrame(start='2011-04-22 22:49:30-04:00', end='2011-04-24 03:48:48-04:00', empty=False),\n",
       " TimeFrame(start='2011-04-24 03:53:21-04:00', end='2011-04-24 20:46:33-04:00', empty=False),\n",
       " TimeFrame(start='2011-04-24 20:48:12-04:00', end='2011-04-27 02:50:18-04:00', empty=False),\n",
       " TimeFrame(start='2011-04-27 02:52:18-04:00', end='2011-04-27 03:17:33-04:00', empty=False),\n",
       " TimeFrame(start='2011-04-27 03:22:12-04:00', end='2011-04-28 05:57:45-04:00', empty=False),\n",
       " TimeFrame(start='2011-04-29 23:11:30-04:00', end='2011-05-01 09:44:39-04:00', empty=False),\n",
       " TimeFrame(start='2011-05-01 09:48:15-04:00', end='2011-05-02 17:04:57-04:00', empty=False),\n",
       " TimeFrame(start='2011-05-02 17:08:24-04:00', end='2011-05-03 00:00:00-04:00', empty=False)]"
      ]
     },
     "execution_count": 6,
     "metadata": {},
     "output_type": "execute_result"
    }
   ],
   "source": [
    "good_sections_pre = predicted.good_sections()\n",
    "good_sections_pre"
   ]
  },
  {
   "cell_type": "code",
   "execution_count": 7,
   "metadata": {},
   "outputs": [
    {
     "data": {
      "text/plain": [
       "ElecMeter(instance=5, building=1, dataset='REDD', appliances=[Appliance(type='fridge', instance=1)])"
      ]
     },
     "execution_count": 7,
     "metadata": {},
     "output_type": "execute_result"
    }
   ],
   "source": [
    "ground_truth"
   ]
  },
  {
   "cell_type": "code",
   "execution_count": 8,
   "metadata": {},
   "outputs": [
    {
     "data": {
      "image/png": "[encoded data removed]",
      "text/plain": [
       "<Figure size 432x288 with 1 Axes>"
      ]
     },
     "metadata": {
      "needs_background": "light"
     },
     "output_type": "display_data"
    }
   ],
   "source": [
    "ground_truth.plot(timeframe=good_sections_pre[3])\n",
    "predicted.plot(timeframe=good_sections_pre[3])\n",
    "plt.legend(['Ground truth', 'Predicted'])\n",
    "plt.show()"
   ]
  },
  {
   "cell_type": "code",
   "execution_count": 9,
   "metadata": {},
   "outputs": [
    {
     "data": {
      "text/plain": [
       "<matplotlib.legend.Legend at 0x7ff8f034cb50>"
      ]
     },
     "execution_count": 9,
     "metadata": {},
     "output_type": "execute_result"
    },
    {
     "data": {
      "image/png": "[encoded data removed]",
      "text/plain": [
       "<Figure size 432x288 with 1 Axes>"
      ]
     },
     "metadata": {
      "needs_background": "light"
     },
     "output_type": "display_data"
    }
   ],
   "source": [
    "plt.plot(history01['loss'],label='train loss')\n",
    "plt.plot(history01['val_loss'], label='val loss')\n",
    "plt.legend()\n"
   ]
  },
  {
   "cell_type": "code",
   "execution_count": 4,
   "metadata": {},
   "outputs": [
    {
     "name": "stdout",
     "output_type": "stream",
     "text": [
      "========== RESULTS ============\n",
      "============ Recall: 0.46139898781929517\n",
      "============ Precision: 0.8979409825894762\n",
      "============ Accuracy: 0.7546558079394793\n",
      "============ F1 Score: 0.6095738660044837\n",
      "============ Relative error in total energy: 0.16966611776235513\n",
      "============ Mean absolute error(in Watts): 27.40615976892319\n"
     ]
    }
   ],
   "source": [
    "print(\"========== RESULTS ============\")\n",
    "result = DataSet('disag_CNN-BiLSTM-one-Fridge.h5')\n",
    "res_elec = result.buildings[test_building].elec\n",
    "rpaf = metrics.recall_precision_accuracy_f1(res_elec[meter_key], test_meters)\n",
    "print(\"============ Recall: {}\".format(rpaf[0]))\n",
    "print(\"============ Precision: {}\".format(rpaf[1]))\n",
    "print(\"============ Accuracy: {}\".format(rpaf[2]))\n",
    "print(\"============ F1 Score: {}\".format(rpaf[3]))\n",
    "\n",
    "print(\"============ Relative error in total energy: {}\".format(metrics.relative_error_total_energy(res_elec[meter_key], test_meters)))\n",
    "print(\"============ Mean absolute error(in Watts): {}\".format(metrics.mean_absolute_error(res_elec[meter_key], test_meters)))"
   ]
  },
  {
   "cell_type": "code",
   "execution_count": null,
   "metadata": {},
   "outputs": [],
   "source": []
  }
 ],
 "metadata": {
  "kernelspec": {
   "display_name": "Python 3 (ipykernel)",
   "language": "python",
   "name": "python3"
  },
  "language_info": {
   "codemirror_mode": {
    "name": "ipython",
    "version": 3
   },
   "file_extension": ".py",
   "mimetype": "text/x-python",
   "name": "python",
   "nbconvert_exporter": "python",
   "pygments_lexer": "ipython3",
   "version": "3.8.10"
  }
 },
 "nbformat": 4,
 "nbformat_minor": 4
}
